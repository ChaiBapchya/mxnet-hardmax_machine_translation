{
 "cells": [
  {
   "cell_type": "code",
   "execution_count": 1,
   "metadata": {},
   "outputs": [
    {
     "name": "stderr",
     "output_type": "stream",
     "text": [
      "/anaconda3/lib/python3.6/site-packages/h5py/__init__.py:36: FutureWarning: Conversion of the second argument of issubdtype from `float` to `np.floating` is deprecated. In future, it will be treated as `np.float64 == np.dtype(float).type`.\n",
      "  from ._conv import register_converters as _register_converters\n"
     ]
    },
    {
     "name": "stdout",
     "output_type": "stream",
     "text": [
      "<module 'mxnet' from '/Users/bapac/workspace/randint/incubator-mxnet/python/mxnet/__init__.py'>\n"
     ]
    }
   ],
   "source": [
    "import mxnet as mx\n",
    "import numpy as np\n",
    "print(mx)\n",
    "import time"
   ]
  },
  {
   "cell_type": "code",
   "execution_count": 4,
   "metadata": {},
   "outputs": [
    {
     "name": "stdout",
     "output_type": "stream",
     "text": [
      "MXNET | Numpy\n",
      "0.3018488883972168 |0.29161810874938965\n",
      "0.0017006397247314453 |0.9767658710479736\n",
      "0.00033211708068847656 |16.089473009109497\n"
     ]
    }
   ],
   "source": [
    "print(\"MXNET | Numpy\")\n",
    "for i in [1000,10000,32500]:\n",
    "    start = time.time()\n",
    "    #random_dimensions = np.random.randint(2, 5)\n",
    "    random_shape = [i,i]#65536,65536 #[np.random.randint(2, 5) for i in range(random_dimensions)]\n",
    "    mx_output = mx.nd.random.randint(-1000,1000,random_shape)\n",
    "    end = time.time()\n",
    "    print(end-start, end=\" |\")\n",
    "    start = time.time()\n",
    "    np_output = np.random.randint(-1000,1000,random_shape)\n",
    "    end = time.time()\n",
    "    print(end-start)"
   ]
  },
  {
   "cell_type": "code",
   "execution_count": 5,
   "metadata": {},
   "outputs": [
    {
     "name": "stdout",
     "output_type": "stream",
     "text": [
      "MXNET | Numpy\n",
      "0.35822010040283203 |0.44710516929626465\n",
      "0.0007319450378417969 |1.2680292129516602\n",
      "0.0015988349914550781 |20.00214409828186\n"
     ]
    }
   ],
   "source": [
    "print(\"MXNET | Numpy\")\n",
    "for i in [1000,10000,32500]:\n",
    "    start = time.time()\n",
    "    #random_dimensions = np.random.randint(2, 5)\n",
    "    random_shape = [i,i]#65536,65536 #[np.random.randint(2, 5) for i in range(random_dimensions)]\n",
    "    mx_output = mx.nd.random.randint(0,100000,random_shape)\n",
    "    end = time.time()\n",
    "    print(end-start, end=\" |\")\n",
    "    start = time.time()\n",
    "    np_output = np.random.randint(0,100000,random_shape)\n",
    "    end = time.time()\n",
    "    print(end-start)"
   ]
  },
  {
   "cell_type": "code",
   "execution_count": null,
   "metadata": {},
   "outputs": [],
   "source": []
  }
 ],
 "metadata": {
  "kernelspec": {
   "display_name": "Python 3",
   "language": "python",
   "name": "python3"
  },
  "language_info": {
   "codemirror_mode": {
    "name": "ipython",
    "version": 3
   },
   "file_extension": ".py",
   "mimetype": "text/x-python",
   "name": "python",
   "nbconvert_exporter": "python",
   "pygments_lexer": "ipython3",
   "version": "3.6.5"
  }
 },
 "nbformat": 4,
 "nbformat_minor": 2
}
