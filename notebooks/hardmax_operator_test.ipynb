{
 "cells": [
  {
   "cell_type": "markdown",
   "metadata": {},
   "source": [
    "Hardmax implementations "
   ]
  },
  {
   "cell_type": "code",
   "execution_count": 13,
   "metadata": {},
   "outputs": [
    {
     "name": "stdout",
     "output_type": "stream",
     "text": [
      "[[[0.18651888 0.29437149 0.45589573 0.55928469]\n",
      "  [0.1951702  0.50387834 0.38563502 0.49604304]\n",
      "  [0.12411261 0.67440557 0.50830552 0.67146303]]\n",
      "\n",
      " [[0.52552375 0.06349533 0.78590277 0.36544202]\n",
      "  [0.6055249  0.317296   0.42477562 0.34462548]\n",
      "  [0.55422445 0.68032915 0.93749125 0.89412014]]]\n",
      "<module 'tensorflow' from '/anaconda3/lib/python3.6/site-packages/tensorflow/__init__.py'>\n",
      "hardmax\n",
      "[[[0. 0. 0. 1.]\n",
      "  [0. 1. 0. 0.]\n",
      "  [0. 1. 0. 0.]]\n",
      "\n",
      " [[0. 0. 1. 0.]\n",
      "  [1. 0. 0. 0.]\n",
      "  [0. 0. 1. 0.]]]\n",
      "hardmax via argmax one hot\n",
      "[[[0. 0. 0. 1.]\n",
      "  [0. 1. 0. 0.]\n",
      "  [0. 1. 0. 0.]]\n",
      "\n",
      " [[0. 0. 1. 0.]\n",
      "  [1. 0. 0. 0.]\n",
      "  [0. 0. 1. 0.]]]\n",
      "time needed0.059676170349121094\n"
     ]
    }
   ],
   "source": [
    "import numpy as np\n",
    "data= np.random.rand(2,3,4)\n",
    "print(data)\n",
    "import tensorflow as tf\n",
    "import time\n",
    "print(tf)\n",
    "# a=tf.constant(1.0)\n",
    "start_time=time.time()\n",
    "b=tf.Variable(data)#tf.Variable([[[2,3,4],[1,2,3]],[[1,1,1],[1,2,3]]])\n",
    "init_op = tf.global_variables_initializer()\n",
    "with tf.Session() as sess:    \n",
    "#     print(sess.run(a))\n",
    "    sess.run(init_op)\n",
    "#     print(sess.run(b))\n",
    "#     print(\"argmax\")\n",
    "#     print(sess.run(tf.argmax(b,axis=1))) #returns the index of the highest value along that axis (axis=1 compares column-wise, axis=2 row-wise)\n",
    "    print(\"hardmax\")\n",
    "    print(sess.run(tf.contrib.seq2seq.hardmax(b)))\n",
    "    print(\"hardmax via argmax one hot\")\n",
    "    print(sess.run(tf.one_hot(tf.argmax(b,-1),tf.shape(b)[-1])))\n",
    "    end_time=time.time()\n",
    "    print(\"time needed\"+str(end_time-start_time))"
   ]
  },
  {
   "cell_type": "code",
   "execution_count": 2,
   "metadata": {},
   "outputs": [
    {
     "name": "stdout",
     "output_type": "stream",
     "text": [
      "<module 'torch' from '/anaconda3/lib/python3.6/site-packages/torch/__init__.py'>\n",
      "tensor([[4, 3],\n",
      "        [1, 3]])\n",
      "tensor([[2, 2],\n",
      "        [0, 2]])\n",
      "time needed0.00185394287109375\n"
     ]
    }
   ],
   "source": [
    "import torch\n",
    "print(torch)\n",
    "start_time=time.time()\n",
    "x = torch.tensor([[[2,3,4],[1,2,3]],[[1,1,1],[1,2,3]]])\n",
    "values, indices = torch.max(x, 2) #0 does it across z, 2 across row, 1 across column\n",
    "print(values)\n",
    "print(indices)\n",
    "end_time=time.time()\n",
    "print(\"time needed\"+str(end_time-start_time))"
   ]
  },
  {
   "cell_type": "code",
   "execution_count": 12,
   "metadata": {},
   "outputs": [
    {
     "name": "stdout",
     "output_type": "stream",
     "text": [
      "\n",
      "[[[0. 0. 0. 0.]\n",
      "  [0. 1. 0. 0.]\n",
      "  [0. 0. 0. 0.]]\n",
      "\n",
      " [[0. 1. 0. 0.]\n",
      "  [0. 0. 0. 0.]\n",
      "  [0. 0. 0. 0.]]]\n",
      "<NDArray 2x3x4 @cpu(0)>\n",
      "time needed0.0034580230712890625\n"
     ]
    },
    {
     "ename": "AttributeError",
     "evalue": "'numpy.ndarray' object has no attribute 'one_hot'",
     "output_type": "error",
     "traceback": [
      "\u001b[0;31m---------------------------------------------------------------------------\u001b[0m",
      "\u001b[0;31mAttributeError\u001b[0m                            Traceback (most recent call last)",
      "\u001b[0;32m<ipython-input-12-d4664f57e153>\u001b[0m in \u001b[0;36m<module>\u001b[0;34m()\u001b[0m\n\u001b[1;32m     14\u001b[0m \u001b[0mend_time\u001b[0m\u001b[0;34m=\u001b[0m\u001b[0mtime\u001b[0m\u001b[0;34m.\u001b[0m\u001b[0mtime\u001b[0m\u001b[0;34m(\u001b[0m\u001b[0;34m)\u001b[0m\u001b[0;34m\u001b[0m\u001b[0m\n\u001b[1;32m     15\u001b[0m \u001b[0mprint\u001b[0m\u001b[0;34m(\u001b[0m\u001b[0;34m\"time needed\"\u001b[0m\u001b[0;34m+\u001b[0m\u001b[0mstr\u001b[0m\u001b[0;34m(\u001b[0m\u001b[0mend_time\u001b[0m\u001b[0;34m-\u001b[0m\u001b[0mstart_time\u001b[0m\u001b[0;34m)\u001b[0m\u001b[0;34m)\u001b[0m\u001b[0;34m\u001b[0m\u001b[0m\n\u001b[0;32m---> 16\u001b[0;31m \u001b[0mprint\u001b[0m\u001b[0;34m(\u001b[0m\u001b[0mmx\u001b[0m\u001b[0;34m.\u001b[0m\u001b[0mnd\u001b[0m\u001b[0;34m.\u001b[0m\u001b[0mcontrib\u001b[0m\u001b[0;34m.\u001b[0m\u001b[0mhardmax\u001b[0m\u001b[0;34m(\u001b[0m\u001b[0mdata\u001b[0m\u001b[0;34m)\u001b[0m\u001b[0;34m)\u001b[0m\u001b[0;34m\u001b[0m\u001b[0m\n\u001b[0m",
      "\u001b[0;32m~/workspace/hardmax/incubator-mxnet/python/mxnet/ndarray/contrib.py\u001b[0m in \u001b[0;36mhardmax\u001b[0;34m(data)\u001b[0m\n\u001b[1;32m    560\u001b[0m         \u001b[0mThe\u001b[0m \u001b[0moutput\u001b[0m \u001b[0mNDarray\u001b[0m\u001b[0;34m,\u001b[0m \u001b[0;32mis\u001b[0m \u001b[0ma\u001b[0m \u001b[0mbatched\u001b[0m \u001b[0mone\u001b[0m\u001b[0;34m-\u001b[0m\u001b[0mhot\u001b[0m \u001b[0mtensor\u001b[0m\u001b[0;34m.\u001b[0m\u001b[0;34m\u001b[0m\u001b[0m\n\u001b[1;32m    561\u001b[0m     \"\"\"\n\u001b[0;32m--> 562\u001b[0;31m     \u001b[0;32mreturn\u001b[0m \u001b[0mdata\u001b[0m\u001b[0;34m.\u001b[0m\u001b[0margmax\u001b[0m\u001b[0;34m(\u001b[0m\u001b[0;34m-\u001b[0m\u001b[0;36m1\u001b[0m\u001b[0;34m)\u001b[0m\u001b[0;34m.\u001b[0m\u001b[0mone_hot\u001b[0m\u001b[0;34m(\u001b[0m\u001b[0mdata\u001b[0m\u001b[0;34m.\u001b[0m\u001b[0mshape\u001b[0m\u001b[0;34m[\u001b[0m\u001b[0;34m-\u001b[0m\u001b[0;36m1\u001b[0m\u001b[0;34m]\u001b[0m\u001b[0;34m)\u001b[0m\u001b[0;34m\u001b[0m\u001b[0m\n\u001b[0m",
      "\u001b[0;31mAttributeError\u001b[0m: 'numpy.ndarray' object has no attribute 'one_hot'"
     ]
    }
   ],
   "source": [
    "\n",
    "import mxnet as mx\n",
    "import numpy as np\n",
    "import time\n",
    "start_time=time.time()\n",
    "# x = np.asarray([[[2,3,4],[1,2,3]],[[1,1,1],[1,2,3]]])#np.random.rand(2,2,3)\n",
    "xn = mx.nd.array(data)\n",
    "\n",
    "xn_r = mx.nd.reshape(xn, shape=(2,12))\n",
    "xn_e = mx.nd.eye(xn_r.shape[1], dtype=data.dtype)[mx.nd.argmax(xn_r, axis=1)]\n",
    "\n",
    "hardmax_output = mx.nd.reshape(xn_e, shape=xn.shape)\n",
    "print(hardmax_output)\n",
    "end_time=time.time()\n",
    "print(\"time needed\"+str(end_time-start_time))\n",
    "print(mx.nd.contrib.hardmax(data))\n",
    "\n"
   ]
  },
  {
   "cell_type": "code",
   "execution_count": 10,
   "metadata": {},
   "outputs": [
    {
     "name": "stdout",
     "output_type": "stream",
     "text": [
      "onehotargmax\n",
      "[[[0. 0. 1.]\n",
      "  [0. 0. 1.]]\n",
      "\n",
      " [[1. 0. 0.]\n",
      "  [0. 0. 1.]]]\n",
      "<NDArray 2x2x3 @cpu(0)>\n"
     ]
    }
   ],
   "source": [
    "import mxnet as mx\n",
    "import numpy as np\n",
    "x = np.asarray([[[2,3,4],[1,2,3]],[[1,1,1],[1,2,3]]])#np.random.rand(2,2,3)\n",
    "xn = mx.nd.array(x)\n",
    "print('onehotargmax'+str(mx.nd.one_hot(mx.nd.argmax(xn,-1),xn.shape[-1])))"
   ]
  },
  {
   "cell_type": "code",
   "execution_count": null,
   "metadata": {},
   "outputs": [],
   "source": []
  }
 ],
 "metadata": {
  "kernelspec": {
   "display_name": "Python 2",
   "language": "python",
   "name": "python2"
  },
  "language_info": {
   "codemirror_mode": {
    "name": "ipython",
    "version": 3
   },
   "file_extension": ".py",
   "mimetype": "text/x-python",
   "name": "python",
   "nbconvert_exporter": "python",
   "pygments_lexer": "ipython3",
   "version": "3.6.5"
  }
 },
 "nbformat": 4,
 "nbformat_minor": 2
}
