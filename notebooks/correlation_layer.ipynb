{
 "cells": [
  {
   "cell_type": "code",
   "execution_count": 23,
   "metadata": {},
   "outputs": [
    {
     "name": "stdout",
     "output_type": "stream",
     "text": [
      "\n",
      "[[[[0.32925186 0.32847446]\n",
      "   [0.3212866  0.32142827]]]]\n",
      "<NDArray 1x1x2x2 @cpu(0)>\n"
     ]
    }
   ],
   "source": [
    "import numpy as np\n",
    "import mxnet as mx\n",
    "\n",
    "# Network\n",
    "data1 = mx.symbol.Variable('data1')\n",
    "#data2 = mx.symbol.Variable('data2')\n",
    "cor = mx.sym.Correlation(data1=data1, data2=data1, kernel_size=28, stride1=1, stride2=1, pad_size=0, max_displacement=0)\n",
    "loss = mx.sym.MakeLoss(cor, normalization='batch')\n",
    "group = mx.symbol.Group([mx.sym.BlockGrad(cor), loss])\n",
    "\n",
    "# Data\n",
    "datashape = (1, 1, 28, 28)  # like mnist\n",
    "data = np.random.rand(1, 1, 28, 28)\n",
    "\n",
    "#Bind, execute, get computed correlation\n",
    "executor = group.simple_bind(ctx=mx.cpu(), data1=datashape)\n",
    "outs = executor.forward(is_train=True, data1=data)\n",
    "cor = executor.outputs[0]\n",
    "grad1 = executor.outputs[1]\n",
    "print(cor)"
   ]
  },
  {
   "cell_type": "code",
   "execution_count": 21,
   "metadata": {},
   "outputs": [
    {
     "name": "stdout",
     "output_type": "stream",
     "text": [
      "\n",
      "[[[0.6481719  0.6481719  0.83261985 0.95715517 0.95715517 0.95715517\n",
      "   0.87001216 0.87008727]]]\n",
      "<NDArray 1x1x8 @cpu(0)>\n"
     ]
    }
   ],
   "source": [
    "data = mx.nd.random.uniform(0, 1, shape=(1,1,10))\n",
    "exp_out=mx.nd.Pooling(data, kernel=(3), pool_type='max',name='pooling')\n",
    "print(exp_out)"
   ]
  },
  {
   "cell_type": "code",
   "execution_count": null,
   "metadata": {},
   "outputs": [],
   "source": []
  }
 ],
 "metadata": {
  "kernelspec": {
   "display_name": "Python 2",
   "language": "python",
   "name": "python2"
  },
  "language_info": {
   "codemirror_mode": {
    "name": "ipython",
    "version": 2
   },
   "file_extension": ".py",
   "mimetype": "text/x-python",
   "name": "python",
   "nbconvert_exporter": "python",
   "pygments_lexer": "ipython2",
   "version": "2.7.15"
  }
 },
 "nbformat": 4,
 "nbformat_minor": 2
}
