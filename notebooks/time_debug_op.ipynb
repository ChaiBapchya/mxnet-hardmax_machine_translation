{
 "cells": [
  {
   "cell_type": "code",
   "execution_count": 12,
   "metadata": {},
   "outputs": [
    {
     "name": "stdout",
     "output_type": "stream",
     "text": [
      "<module 'mxnet' from '/Users/bapac/workspace/incubator-mxnet/python/mxnet/__init__.py'>\n"
     ]
    }
   ],
   "source": [
    "import mxnet as mx\n",
    "import numpy as np\n",
    "print(mx)\n",
    "import time"
   ]
  },
  {
   "cell_type": "code",
   "execution_count": 13,
   "metadata": {},
   "outputs": [
    {
     "name": "stdout",
     "output_type": "stream",
     "text": [
      "load time ndarray | MXNET | Numpy\n",
      "0.03021073341369629 |0.004302024841308594 |0.0008292198181152344\n",
      "3.97593092918396 |0.0009949207305908203 |0.8044233322143555\n",
      "121.64969301223755 |0.13901996612548828 |78.64407205581665\n"
     ]
    }
   ],
   "source": [
    "print(\"load time ndarray | MXNET | Numpy\")\n",
    "for i in [1000,10000,32500]:\n",
    "    start = time.time()\n",
    "    #random_dimensions = np.random.randint(2, 5)\n",
    "    random_shape = [i,i]#65536,65536 #[np.random.randint(2, 5) for i in range(random_dimensions)]\n",
    "    data = mx.test_utils.rand_ndarray(random_shape,'default')\n",
    "    end = time.time()\n",
    "    print(end-start, end=\" |\")\n",
    "    start = time.time()\n",
    "    mx_output = mx.nd.contrib.isfinite(data)\n",
    "    end = time.time()\n",
    "    print(end-start, end=\" |\")\n",
    "    start = time.time()\n",
    "    np_output = np.isfinite(data.asnumpy())\n",
    "    end = time.time()\n",
    "    print(end-start)"
   ]
  },
  {
   "cell_type": "code",
   "execution_count": 14,
   "metadata": {},
   "outputs": [
    {
     "name": "stdout",
     "output_type": "stream",
     "text": [
      "count | load time ndarray | MXNET | Numpy\n",
      "1000 |0.2032618522644043 |0.08216595649719238 |0.010371685028076172\n",
      "10000 |3.5275940895080566 |0.001216888427734375 |0.42340588569641113\n",
      "32500 |122.21713614463806 |0.010561943054199219 |76.96974110603333\n"
     ]
    }
   ],
   "source": [
    "print(\"count | load time ndarray | MXNET | Numpy\")\n",
    "for i in [1000,10000,32500]:\n",
    "    print(i, end=\" |\")\n",
    "    start = time.time()\n",
    "    #random_dimensions = np.random.randint(2, 5)\n",
    "    random_shape = [i,i]#65536,65536 #[np.random.randint(2, 5) for i in range(random_dimensions)]\n",
    "    data = mx.test_utils.rand_ndarray(random_shape,'default')\n",
    "    end = time.time()\n",
    "    print(end-start, end=\" |\")\n",
    "    start = time.time()\n",
    "    mx_output = mx.nd.contrib.isinf(data)\n",
    "    end = time.time()\n",
    "    print(end-start, end=\" |\")\n",
    "    start = time.time()\n",
    "    np_output = np.isinf(data.asnumpy())\n",
    "    end = time.time()\n",
    "    print(end-start)"
   ]
  },
  {
   "cell_type": "code",
   "execution_count": 15,
   "metadata": {},
   "outputs": [
    {
     "name": "stdout",
     "output_type": "stream",
     "text": [
      "count | load time ndarray | MXNET | Numpy\n",
      "1000 |0.3542041778564453 |0.031025171279907227 |0.009708642959594727\n",
      "10000 |3.5923447608947754 |0.00115203857421875 |0.41738080978393555\n",
      "32500 |122.86627793312073 |0.01172494888305664 |60.25666809082031\n"
     ]
    }
   ],
   "source": [
    "print(\"count | load time ndarray | MXNET | Numpy\")\n",
    "for i in [1000,10000,32500]:\n",
    "    print(i, end=\" |\")\n",
    "    start = time.time()\n",
    "    #random_dimensions = np.random.randint(2, 5)\n",
    "    random_shape = [i,i]#65536,65536 #[np.random.randint(2, 5) for i in range(random_dimensions)]\n",
    "    data = mx.test_utils.rand_ndarray(random_shape,'default')\n",
    "    end = time.time()\n",
    "    print(end-start, end=\" |\")\n",
    "    start = time.time()\n",
    "    mx_output = mx.nd.contrib.isnan(data)\n",
    "    end = time.time()\n",
    "    print(end-start, end=\" |\")\n",
    "    start = time.time()\n",
    "    np_output = np.isnan(data.asnumpy())\n",
    "    end = time.time()\n",
    "    print(end-start)"
   ]
  },
  {
   "cell_type": "code",
   "execution_count": null,
   "metadata": {},
   "outputs": [],
   "source": []
  }
 ],
 "metadata": {
  "kernelspec": {
   "display_name": "Python 3",
   "language": "python",
   "name": "python3"
  },
  "language_info": {
   "codemirror_mode": {
    "name": "ipython",
    "version": 3
   },
   "file_extension": ".py",
   "mimetype": "text/x-python",
   "name": "python",
   "nbconvert_exporter": "python",
   "pygments_lexer": "ipython3",
   "version": "3.6.5"
  }
 },
 "nbformat": 4,
 "nbformat_minor": 2
}
