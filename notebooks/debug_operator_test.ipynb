{
 "cells": [
  {
   "cell_type": "markdown",
   "metadata": {},
   "source": [
    "# Tensorflow\n",
    "### Advantages\n",
    "- Different functions for debugging\n",
    "\n",
    "### Disadvantage\n",
    "- is_finite\n",
    "  - d_type (`float32`,`float64`,`bfloat16`,`half`)"
   ]
  },
  {
   "cell_type": "code",
   "execution_count": null,
   "metadata": {},
   "outputs": [],
   "source": []
  },
  {
   "cell_type": "code",
   "execution_count": 20,
   "metadata": {},
   "outputs": [
    {
     "name": "stdout",
     "output_type": "stream",
     "text": [
      "[False  True  True]\n",
      "[False  True  True]\n",
      "[False  True  True]\n"
     ]
    }
   ],
   "source": [
    "import tensorflow as tf\n",
    "import numpy as np\n",
    "with tf.Session() as sess:\n",
    "#     print(sess.run(tf.is_finite(tf.constant(4.0))))\n",
    "#     print(sess.run(tf.is_inf(tf.constant([4.0, np.inf, np.NINF]))))\n",
    "#     print(sess.run(tf.is_nan(tf.constant(4.0))))\n",
    "#     print(sess.run(tf.verify_tensor_all_finite(tf.constant(4.0))))\n",
    "#     print(sess.run(tf.check_numerics(tf.constant(4.0))))\n",
    "#     print(sess.run(tf.add_check_numeric_ops(tf.constant(4.0))))\n",
    "#     print(sess.run(tf.Asset(tf.constant(4.0))))\n",
    "#     print(sess.run(tf.Print(tf.constant(4.0),[tf.constant(4.0)],\"Yo\")))\n",
    "    a=tf.is_inf([4.0,np.inf, np.NINF])\n",
    "    print(np.isinf([4.0,np.inf, np.NINF]))\n",
    "    print(sess.run(a))\n",
    "    print(a.eval())"
   ]
  },
  {
   "cell_type": "code",
   "execution_count": 10,
   "metadata": {},
   "outputs": [
    {
     "name": "stdout",
     "output_type": "stream",
     "text": [
      "[5. 3.]\n"
     ]
    },
    {
     "name": "stderr",
     "output_type": "stream",
     "text": [
      "/anaconda3/lib/python3.6/site-packages/tensorflow/python/client/session.py:1645: UserWarning: An interactive session is already active. This can cause out-of-memory errors in some cases. You must explicitly call `InteractiveSession.close()` to release resources held by the other session(s).\n",
      "  warnings.warn('An interactive session is already active. This can '\n"
     ]
    },
    {
     "data": {
      "text/plain": [
       "array([10.,  6.], dtype=float32)"
      ]
     },
     "execution_count": 10,
     "metadata": {},
     "output_type": "execute_result"
    }
   ],
   "source": [
    "# Initialize session\n",
    "import tensorflow as tf\n",
    "sess = tf.InteractiveSession()\n",
    "\n",
    "# Some tensor we want to print the value of\n",
    "a = tf.constant([5.0, 3.0])\n",
    "print(a.eval())\n",
    "# Add print operation\n",
    "b = tf.Print(a, [a], message=\"This is a: \")\n",
    "b.eval()\n",
    "# Add more elements of the graph using a\n",
    "c = tf.add(b, b)\n",
    "c.eval()"
   ]
  },
  {
   "cell_type": "code",
   "execution_count": 5,
   "metadata": {},
   "outputs": [
    {
     "name": "stdout",
     "output_type": "stream",
     "text": [
      "\n",
      "[0.]\n",
      "<NDArray 1 @cpu(0)>\n",
      "[False]\n",
      "\n",
      "inf\n",
      "<NDArray  @cpu(0)>\n",
      "True\n"
     ]
    }
   ],
   "source": [
    "import mxnet as mx\n",
    "import numpy as np\n",
    "import timeit\n",
    "a = mx.nd.zeros(1)\n",
    "# a = a.asnumpy()\n",
    "print(a)\n",
    "print(np.isinf(a.asnumpy()))\n",
    "b = mx.nd.array(np.inf)\n",
    "print(b)\n",
    "print(np.isinf(b.asnumpy()))"
   ]
  },
  {
   "cell_type": "code",
   "execution_count": null,
   "metadata": {},
   "outputs": [],
   "source": []
  },
  {
   "cell_type": "code",
   "execution_count": null,
   "metadata": {},
   "outputs": [],
   "source": []
  }
 ],
 "metadata": {
  "kernelspec": {
   "display_name": "Python 3",
   "language": "python",
   "name": "python3"
  },
  "language_info": {
   "codemirror_mode": {
    "name": "ipython",
    "version": 3
   },
   "file_extension": ".py",
   "mimetype": "text/x-python",
   "name": "python",
   "nbconvert_exporter": "python",
   "pygments_lexer": "ipython3",
   "version": "3.6.5"
  }
 },
 "nbformat": 4,
 "nbformat_minor": 2
}
